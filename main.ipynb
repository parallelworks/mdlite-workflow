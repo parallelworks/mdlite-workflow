{
 "cells": [
  {
   "cell_type": "markdown",
   "metadata": {},
   "source": [
    "# Molecular Dynamics Lite workflow\n",
    "This notebook implements a simple molecular dynamics (MD) workflow to demonstrate [Parsl Python parallel scripting](https://parsl-project.org/) in a Jupyter notebook. This workflow first runs MD simulations in parallel on remote resources and then renders the frames of an animation visualizing the simulation according to the schematic below."
   ]
  },
  {
   "cell_type": "code",
   "execution_count": null,
   "metadata": {},
   "outputs": [],
   "source": [
    "from IPython.display import Image\n",
    "Image(\"images/mdlite-parameter-sweep.png\")"
   ]
  },
  {
   "cell_type": "markdown",
   "metadata": {},
   "source": [
    "## Step 1: Define workflow inputs\n",
    "This PW workflow can be either launched from its form in the `Compute` tab or it can be run directly in this notebook.  If running directly from the notebook, the user needs to go through the extra step of defining the inputs of the workfow in the notebook."
   ]
  },
  {
   "cell_type": "code",
   "execution_count": null,
   "metadata": {},
   "outputs": [],
   "source": [
    "import os\n",
    "from os.path import exists\n",
    "\n",
    "print('Define workflow inputs...')\n",
    "\n",
    "# Start assuming workflow is launched from the form.\n",
    "run_in_notebook=False\n",
    "\n",
    "if (exists(\"./params.run\")):\n",
    "    print(\"Running from a PW form.\")\n",
    "    \n",
    "else:\n",
    "    print(\"Running from a notebook.\")\n",
    "    \n",
    "    # Set flag for later\n",
    "    run_in_notebook=True\n",
    "    \n",
    "    #TO DO: AUTOMATE THE PROCESS OF GRABING PW.CONF.\n",
    "    \n",
    "    # Manually set workflow inputs here (same as the\n",
    "    # default values in workflow launch form)\n",
    "    params=\"npart;input;25:50:25|steps;input;3000:6000:3000|mass;input;0.01:0.02:0.01|trsnaps;input;5:10:5|\"\n",
    "    \n",
    "    print(params)\n",
    "    \n",
    "    # Write to params.run\n",
    "    with open(\"params.run\",\"w\") as f:\n",
    "        n_char_written = f.write(params+\"\\n\")"
   ]
  },
  {
   "cell_type": "markdown",
   "metadata": {},
   "source": [
    "## Step 2: Configure Parsl\n",
    "The molecular dynamics software itself is a lightweight, precompiled executable written in C. The executable is distributed with this workflow in `./models/mdlite`, and along with input files, it is staged to the remote resources and does not need to be preinstalled.\n",
    "\n",
    "The core visualization tool used here is a precompiled binary of [c-ray](https://github.com/vkoskiv/c-ray) distributed with this workflow in `./models/c-ray`. The executable is staged to remote resources and does not need to be preinstalled.\n",
    "\n",
    "In addition to a Miniconda environment containing Parsl, the only other dependency of this workflow is ImageMagick's `convert` tool for image format conversion (`.ppm` to `.png`) and building animated `.gif` files from `.png` frames."
   ]
  },
  {
   "cell_type": "code",
   "execution_count": null,
   "metadata": {},
   "outputs": [],
   "source": [
    "# Parsl essentials\n",
    "import parsl\n",
    "from parsl.app.app import python_app, bash_app\n",
    "from parsl.data_provider.files import File\n",
    "\n",
    "# PW essentials\n",
    "from utils.path import Path\n",
    "from parslpw import pwconfig,pwargs\n",
    "\n",
    "# For embedding Design Explorer results in notebook\n",
    "from IPython.display import display, HTML\n",
    "\n",
    "# Checking inputs from the WORKFLOW FORM\n",
    "if (not run_in_notebook):\n",
    "    print(pwargs)\n",
    "\n",
    "print(\"Configuring Parsl...\")\n",
    "parsl.load(pwconfig)\n",
    "print(\"pwconfig loaded\")"
   ]
  },
  {
   "cell_type": "markdown",
   "metadata": {},
   "source": [
    "## Step 3: Define Parsl workflow apps\n",
    "These apps are decorated with Parsl's `@bash_app` and as such are executed in parallel on the compute resources that are defined in the PW configuration loaded above.  Functions that are **not** decorated are not executed in parallel on remote resources. The files that need to be staged to remote resources will be marked with Parsl's `File()` (or its PW extension, `Path()`) in the workflow."
   ]
  },
  {
   "cell_type": "code",
   "execution_count": null,
   "metadata": {},
   "outputs": [],
   "source": [
    "print(\"Defining Parsl workflow apps...\")\n",
    "\n",
    "#===================================\n",
    "# Molecular dynamics simulation app\n",
    "#===================================\n",
    "@bash_app\n",
    "def md_run(stdout='md.run.stdout', stderr='md.run.stderr', inputs=[], outputs=[]):\n",
    "    return '''\n",
    "    %s/runMD.sh \"%s\" metric.out trj.out\n",
    "    outdir=%s\n",
    "    mkdir -p $outdir\n",
    "    mv trj.out $outdir/\n",
    "    mv metric.out $outdir/\n",
    "    ''' % (inputs[1],inputs[0],outputs[0])\n",
    "\n",
    "#===================================\n",
    "# App to render frames for animation\n",
    "#===================================\n",
    "# All frames for a given simulation\n",
    "# are rendered together.\n",
    "\n",
    "# This app takes a very simple \n",
    "# approach to zero padding by adding \n",
    "# integers to 1000.\n",
    "@bash_app\n",
    "def md_vis_3(stdout='md.vis.stdout', stderr='md.vis.stderr', inputs=[], outputs=[]):\n",
    "    return '''\n",
    "    indir=%s\n",
    "    outdir=%s\n",
    "    mkdir -p $outdir\n",
    "    for (( ff=0; ff<%s; ff++ ))\n",
    "    do\n",
    "        frame_num_padded=$((1000+$ff))\n",
    "        %s/renderframe $indir/trj.out $outdir/f_$frame_num_padded.ppm $ff\n",
    "    done\n",
    "    ''' % (inputs[2],outputs[0],inputs[0],inputs[1])"
   ]
  },
  {
   "cell_type": "markdown",
   "metadata": {},
   "source": [
    "## Step 4: Workflow\n",
    "This cell executes the workflow itself."
   ]
  },
  {
   "cell_type": "code",
   "execution_count": null,
   "metadata": {},
   "outputs": [],
   "source": [
    "print(\"Running workflow...\")\n",
    "\n",
    "#============================================================================\n",
    "# SETUP PARAMETER SWEEP\n",
    "#============================================================================\n",
    "# Generate a case list from params.run (the ranges to parameters to sweep)\n",
    "os.system(\"python ./models/mexdex/prepinputs.py params.run cases.list\")\n",
    "\n",
    "# Each line in cases.list is a unique combination of the parameters to sweep.\n",
    "with open(\"cases.list\",\"r\") as f:\n",
    "    cases_list = f.readlines()\n",
    "\n",
    "#============================================================================\n",
    "# SIMULATE\n",
    "#============================================================================\n",
    "# For each line in cases.list, run and visualize a molecular dynamics simulation\n",
    "# These empty lists will store the futures of Parsl-parallelized apps.\n",
    "# Use Path for staging because multiple files in ./models/mdlite are needed\n",
    "# and mutliple files in ./results/case_*/md are sent back to the platform.\n",
    "md_run_fut = []\n",
    "for ii, case in enumerate(cases_list):        \n",
    "    # Run simulation\n",
    "    md_run_fut.append(md_run(\n",
    "        inputs=[case,\n",
    "            Path(\"./models/mdlite\")],\n",
    "        outputs=[Path(\"./results/case_\"+str(ii)+\"/md\")]))\n",
    "    \n",
    "# Call results for all app futures to require\n",
    "# execution to wait for all simulations to complete.\n",
    "for run in md_run_fut:\n",
    "    run.result()\n",
    "\n",
    "#============================================================================\n",
    "# VISUALIZE\n",
    "#============================================================================\n",
    "md_vis_fut = []\n",
    "for ii, case in enumerate(cases_list):\n",
    "    # Get number of frames to render for this case\n",
    "    nframe = int(case.split(',')[4])\n",
    "    \n",
    "    #=========================================================\n",
    "    # Render all frames for each case in one app.  This approach\n",
    "    # reduces the number of SSH connections (e.g. rsync instances) \n",
    "    # compared to an app that only renders one frame at a time.\n",
    "    md_vis_fut.append(md_vis_3(\n",
    "        inputs=[nframe,\n",
    "                Path(\"./models/c-ray\"),\n",
    "                Path(\"./results/case_\"+str(ii)+\"/md\")],\n",
    "        outputs=[Path(\"./results/case_\"+str(ii)+\"/vis\")]))\n",
    "\n",
    "for vis in md_vis_fut:\n",
    "    vis.result()\n",
    "    \n",
    "# Compile frames into movies locally\n",
    "for ii, case in enumerate(cases_list):\n",
    "    os.system(\"cd ./results/case_\"+str(ii)+\"/vis; convert -delay 10 *.ppm mdlite.gif\")\n",
    "\n",
    "# Compile movies into Design Explorer results locally\n",
    "os.system(\"./models/mexdex/postprocess.sh mdlite_dex.csv mdlite_dex.html ./\")"
   ]
  },
  {
   "cell_type": "markdown",
   "metadata": {},
   "source": [
    "## Step 5: View results\n",
    "This step is only necessary when running directly in a notebook. The outputs of this workflow are stored in the `results` folder and they can be interactively visualized with the Design Explorer by clicking on `mdlite_dex.html` which uses `mdlite_dex.csv` and the data in the `results` folder. The Design Explorer visualization is automatically embedded below."
   ]
  },
  {
   "cell_type": "code",
   "execution_count": null,
   "metadata": {},
   "outputs": [],
   "source": [
    "# Modify width, height, and screen resolution to display as wanted\n",
    "from IPython.display import IFrame\n",
    "def designExplorer(url,height=500):\n",
    "    return IFrame(url, width=800, height=height)\n",
    "\n",
    "# Makre sure path 'datafile=/pw/storage/dex_inference.csv' is correct\n",
    "designExplorer('/preview/DesignExplorer/index.html?datafile=/pw/storage/dex_inference.csv&colorby=num_ships',height=600)"
   ]
  },
  {
   "cell_type": "markdown",
   "metadata": {},
   "source": [
    "## Step 6: Clean up\n",
    "This step is only necessary when running directly in a notebook. These intermediate and log files are removed to keep the workflow file structure clean if this workflow is pushed into the PW Market Place.  Please feel free to comment out these lines in order to inspect intermediate files as needed. The first two, `params.run` and `cases.list` are explicitly created by the workflow in Steps 1 and 4, respectively.  The other files are generated automatically for logging, keeping track of workers, or starting up workers. **Note that even the results are deleted!**"
   ]
  },
  {
   "cell_type": "code",
   "execution_count": null,
   "metadata": {},
   "outputs": [],
   "source": [
    "if (run_in_notebook):\n",
    "    !rm -f params.run\n",
    "    !rm -f cases.list\n",
    "    !rm -rf runinfo\n",
    "    !rm -rf __pycache__\n",
    "    !rm -rf parsl-task.*\n",
    "    !rm -rf *.pid\n",
    "    !rm -rf *.started\n",
    "    !rm -rf *.cancelled\n",
    "    !rm -rf *.cogout\n",
    "    !rm -rf lastid*\n",
    "    !rm -rf launchcmd.*\n",
    "    !rm -rf parsl-htex-worker.sh\n",
    "    # Retain pw.conf if re-running this notebook on the \n",
    "    # same resource and there is no resource Off/On cycling.\n",
    "    # (See README.md for more information.)\n",
    "    !rm -rf pw.conf*\n",
    "    # Delete outputs\n",
    "    !rm -rf ./results\n",
    "    !rm -f mdlite_dex.*"
   ]
  }
 ],
 "metadata": {
  "kernelspec": {
   "display_name": "Python 3",
   "language": "python",
   "name": "python3"
  },
  "language_info": {
   "codemirror_mode": {
    "name": "ipython",
    "version": 3
   },
   "file_extension": ".py",
   "mimetype": "text/x-python",
   "name": "python",
   "nbconvert_exporter": "python",
   "pygments_lexer": "ipython3",
   "version": "3.7.3"
  }
 },
 "nbformat": 4,
 "nbformat_minor": 2
}
