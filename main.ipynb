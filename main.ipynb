{
 "cells": [
  {
   "cell_type": "markdown",
   "metadata": {},
   "source": [
    "# Molecular Dynamics Lite workflow\n",
    "This notebook implements a simple molecular dynamics workflow to demonstrate [Parsl Python parallel scripting](https://parsl-project.org/) in a Jupyter notebook.\n",
    "\n",
    "## Step 1: Define workflow inputs\n",
    "This PW workflow can be either launched from its form in the `Compute` tab or it can be run directly in this notebook.  If running directly from the notebook, the user needs to go through the extra step of defining the inputs of the workfow in the notebook."
   ]
  },
  {
   "cell_type": "code",
   "execution_count": null,
   "metadata": {},
   "outputs": [],
   "source": [
    "import os\n",
    "from os.path import exists\n",
    "\n",
    "print('Define workflow inputs...')\n",
    "\n",
    "# Start assuming workflow is launched from the form.\n",
    "run_in_notebook=False\n",
    "\n",
    "if (exists(\"./params.run\")):\n",
    "    print(\"Running from a PW form.\")\n",
    "    \n",
    "else:\n",
    "    print(\"Running from a notebook.\")\n",
    "    \n",
    "    # Set flag for later\n",
    "    run_in_notebook=True\n",
    "    \n",
    "    #TO DO: AUTOMATE THE PROCESS OF GRABING PW.CONF.\n",
    "    \n",
    "    # Manually set workflow inputs here\n",
    "    #params=\"npart;input;25:50:25|steps;input;3000:6000:3000|mass;input;0.01:0.02:0.01|trsnaps;input;5:10:5|\"\n",
    "    params=\"npart;input;25:50:25|steps;input;3000:6000:3000|mass;input;0.01|trsnaps;input;5|\"\n",
    "    \n",
    "    print(params)\n",
    "    \n",
    "    # Write to params.run\n",
    "    with open(\"params.run\",\"w\") as f:\n",
    "        n_char_written = f.write(params+\"\\n\")"
   ]
  },
  {
   "cell_type": "markdown",
   "metadata": {},
   "source": [
    "## Step 2: Configure Parsl\n",
    "The molecular dynamics software itself is a lightweight, precompiled executable written in C. The executable is distributed with this workflow in `./models/mdlite`, and along with input files, it is staged to the remote resources and does not need to be preinstalled.\n",
    "\n",
    "The core visualization tool used here is a precompiled binary of [c-ray](https://github.com/vkoskiv/c-ray) distributed with this workflow in `./models/c-ray`. The executable is staged to remote resources and does not need to be preinstalled.\n",
    "\n",
    "In addition to a Miniconda environment containing Parsl, the only other dependency of this workflow is ImageMagick's `convert` tool for image format conversion (`.ppm` to `.png`) and building animated `.gif` files from `.png` frames."
   ]
  },
  {
   "cell_type": "code",
   "execution_count": null,
   "metadata": {},
   "outputs": [],
   "source": [
    "print(\"Configuring Parsl...\")\n",
    "#from glob import glob\n",
    "\n",
    "import parsl\n",
    "from parsl.app.app import python_app, bash_app\n",
    "from parsl.data_provider.files import File\n",
    "from path import Path\n",
    "from parslpw import pwconfig,pwargs\n",
    "\n",
    "if (not run_in_notebook):\n",
    "    print(pwargs)\n",
    "\n",
    "parsl.load(pwconfig)\n",
    "print(\"pwconfig loaded\")"
   ]
  },
  {
   "cell_type": "markdown",
   "metadata": {},
   "source": [
    "## Step 3: Define Parsl workflow apps\n",
    "These apps are decorated with Parsl's `@bash_app` and as such are executed in parallel on the compute resources that are defined in the PW configuration loaded above.  Functions that are **not** decorated are not executed in parallel on remote resources. The files that need to be staged to remote resources will be marked with Parsl's `File()` (or its PW extension, `Path()`) in the workflow."
   ]
  },
  {
   "cell_type": "code",
   "execution_count": null,
   "metadata": {},
   "outputs": [],
   "source": [
    "print(\"Defining Parsl workflow apps...\")\n",
    "\n",
    "@bash_app\n",
    "def md_run(stdout='md.run.stdout', stderr='md.run.stderr', inputs=[], outputs=[]):\n",
    "    return '''\n",
    "    %s/runMD.sh \"%s\" metric.out trj.out\n",
    "    outdir=%s\n",
    "    mkdir -p $outdir\n",
    "    mv trj.out $outdir/\n",
    "    mv metric.out $outdir/\n",
    "    ''' % (inputs[1],inputs[0],outputs[0])\n",
    "\n",
    "@bash_app\n",
    "def md_vis(stdout='md.vis.stdout', stderr='md.vis.stderr', inputs=[], outputs=[]):\n",
    "    return '''\n",
    "    frame=%s\n",
    "    outdir=%s\n",
    "    %s/renderframe $outdir/trj.out $outdir/f_$frame.ppm $frame\n",
    "    ''' % (inputs[0],outputs[0],inputs[1])\n",
    "\n",
    "#==================================================================================\n",
    "# Experimenting with this app to speedup workflow:\n",
    "@bash_app\n",
    "def md_vis_2(stdout='md.vis.stdout', stderr='md.vis.stderr', inputs=[], outputs=[]):\n",
    "    return '''\n",
    "    %s/renderframe %s %s %s\n",
    "    ''' % (inputs[1],inputs[2],outputs[0],inputs[0])"
   ]
  },
  {
   "cell_type": "markdown",
   "metadata": {},
   "source": [
    "## Step 4: Workflow\n",
    "This cell executes the workflow itself."
   ]
  },
  {
   "cell_type": "code",
   "execution_count": null,
   "metadata": {},
   "outputs": [],
   "source": [
    "print(\"Running workflow...\")\n",
    "\n",
    "#============================================================================\n",
    "# SETUP PARAMETER SWEEP\n",
    "#============================================================================\n",
    "# Generate a case list from params.run (the ranges to parameters to sweep)\n",
    "os.system(\"python ./models/mexdex/prepinputs.py params.run cases.list\")\n",
    "\n",
    "# Each line in cases.list is a unique combination of the parameters to sweep.\n",
    "with open(\"cases.list\",\"r\") as f:\n",
    "    cases_list = f.readlines()\n",
    "\n",
    "#============================================================================\n",
    "# SIMULATE\n",
    "#============================================================================\n",
    "# For each line in cases.list, run and visualize a molecular dynamics simulation\n",
    "# These empty lists will store the futures of Parsl-parallelized apps.\n",
    "# Use Path for staging because multiple files in ./models/mdlite are needed\n",
    "# and mutliple files in ./results/case_* are sent back to the platform.\n",
    "md_run_fut = []\n",
    "for ii, case in enumerate(cases_list):        \n",
    "    # Run simulation\n",
    "    md_run_fut.append(md_run(\n",
    "        inputs=[case,\n",
    "            Path(\"./models/mdlite\")],\n",
    "        outputs=[Path(\"./results/case_\"+str(ii))]))\n",
    "    \n",
    "# Call results for all app futures to require\n",
    "# execution to wait for all processes to complete.\n",
    "for run in md_run_fut:\n",
    "    run.result()\n",
    "\n",
    "#============================================================================\n",
    "# VISUALIZE\n",
    "#============================================================================\n",
    "md_vis_fut = []\n",
    "for ii, case in enumerate(cases_list):\n",
    "    # Get number of frames to render for this case\n",
    "    nframe = int(case.split(',')[4])\n",
    "    \n",
    "    # Render each frame in the simulation\n",
    "    for ff in range(0,nframe):\n",
    "        #===============================================\n",
    "        #md_vis_fut.append(md_vis(\n",
    "        #    inputs=[ff,\n",
    "        #            Path(\"./models/c-ray\"),\n",
    "        #            Path(\"./results/case_\"+str(ii))],\n",
    "        #    outputs=[Path(\"./results/case_\"+str(ii))]))\n",
    "        \n",
    "        #============================================================================\n",
    "        # Use Path to stage in multiple files in ./models/c-ray.\n",
    "        # Use File to stage in the single necessary input file, trj.out.\n",
    "        # Use File to stage out the single output file, a single .ppm image.\n",
    "        md_vis_fut.append(md_vis_2(\n",
    "            inputs=[ff,\n",
    "                    Path(\"./models/c-ray\"),\n",
    "                    Path(\"./results/case_\"+str(ii)+\"/trj.out\")],\n",
    "            outputs=[Path(\"./results/case_\"+str(ii)+\"/f_\"+str(ff).zfill(3)+\".ppm\")]))\n",
    "        \n",
    "for vis in md_vis_fut:\n",
    "    vis.result()\n",
    "    \n",
    "# Compile frames into movies\n",
    "for ii, case in enumerate(cases_list):\n",
    "    os.system(\"cd ./results/case_\"+str(ii)+\"; convert -delay 10 *.ppm mdlite.gif\")\n",
    "\n",
    "# Compile movies into Design Explorer results\n",
    "os.system(\"./models/mexdex/postprocess.sh mdlite_dex.csv mdlite_dex.html ./\")"
   ]
  },
  {
   "cell_type": "markdown",
   "metadata": {},
   "source": [
    "# Step 5: Interact and clean up\n",
    "This step is only necessary when running directly in a notebook. These intermediate and log files are removed to keep the workflow file structure clean if this workflow is pushed into the PW Market Place.  Please feel free to comment out these lines in order to inspect intermediate files as needed. The first two, `params.run` and `cases.list` are explicitly created by the workflow in Step 4.  The other files are generated automatically for logging, keeping track of workers, or starting up workers.\n",
    "\n",
    "The outputs of this workflow are stored in the `results` folder and they can be interactively visualized with the Design Explorer by clicking on `mdlite_dex.html` which also uses `mdlite_dex.csv`. You can also embed output ![figures.](https://go.parallel.works/pwide/go-vpn-user-1.parallel.works/63001/files/download/?id=69d906f4-44e7-4765-bda7-9dfbee4261b8 \"Molecules\")"
   ]
  },
  {
   "cell_type": "code",
   "execution_count": null,
   "metadata": {},
   "outputs": [],
   "source": [
    "if (run_in_notebook):\n",
    "    !rm -f params.run\n",
    "    !rm -f cases.list\n",
    "    !rm -rf runinfo\n",
    "    !rm -rf __pycache__\n",
    "    !rm -rf parsl-task.*\n",
    "    !rm -rf *.pid\n",
    "    !rm -rf *.started\n",
    "    !rm -rf *.cancelled\n",
    "    !rm -rf *.cogout\n",
    "    !rm -rf lastid*\n",
    "    !rm -rf launchcmd.*\n",
    "    !rm -rf parsl-htex-worker.sh\n",
    "    !rm -rf pw.conf\n",
    "    # Move the outputs elsewhere.\n",
    "    #!mkdir -p /pw/storage/mdlite-out\n",
    "    #!mv ./results /pw/storage/mdlite-out\n",
    "    #!mv mdlite_dex.* /pw/storage/mdlite-out\n",
    "    !rm -rf ./results\n",
    "    !rm -f mdlite_dex.*"
   ]
  },
  {
   "cell_type": "code",
   "execution_count": null,
   "metadata": {},
   "outputs": [],
   "source": []
  }
 ],
 "metadata": {
  "kernelspec": {
   "display_name": "Python 3",
   "language": "python",
   "name": "python3"
  },
  "language_info": {
   "codemirror_mode": {
    "name": "ipython",
    "version": 3
   },
   "file_extension": ".py",
   "mimetype": "text/x-python",
   "name": "python",
   "nbconvert_exporter": "python",
   "pygments_lexer": "ipython3",
   "version": "3.7.3"
  }
 },
 "nbformat": 4,
 "nbformat_minor": 2
}
